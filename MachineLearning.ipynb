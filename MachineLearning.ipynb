{
 "cells": [
  {
   "cell_type": "markdown",
   "id": "0e0f8dea",
   "metadata": {},
   "source": [
    "**This file covers all basic and popular machine learning related model and skills.**"
   ]
  },
  {
   "cell_type": "markdown",
   "id": "2d5e97a4",
   "metadata": {},
   "source": [
    "# Content\n",
    "\n",
    "## I. [Regression](#Regression)\n",
    "## II. [Classification](#Classification)"
   ]
  },
  {
   "cell_type": "markdown",
   "id": "ac5e4373",
   "metadata": {},
   "source": [
    "# I. Regression\n",
    "\n",
    "The Regression parts will use [Superconductivty](https://archive.ics.uci.edu/ml/datasets/Superconductivty+Data) dataset and different regressors to predict critical tempeture."
   ]
  },
  {
   "cell_type": "code",
   "execution_count": null,
   "id": "e30d55f7",
   "metadata": {},
   "outputs": [],
   "source": []
  },
  {
   "cell_type": "markdown",
   "id": "f3494015",
   "metadata": {},
   "source": [
    "## 1. Linear Regression "
   ]
  },
  {
   "cell_type": "code",
   "execution_count": null,
   "id": "dc8ccc42",
   "metadata": {},
   "outputs": [],
   "source": [
    "from sklearn.linear_model import LinearRegression\n",
    "from sklearn.model_selection import train_test_split\n",
    "\n"
   ]
  }
 ],
 "metadata": {
  "kernelspec": {
   "display_name": "Python 3 (ipykernel)",
   "language": "python",
   "name": "python3"
  },
  "language_info": {
   "codemirror_mode": {
    "name": "ipython",
    "version": 3
   },
   "file_extension": ".py",
   "mimetype": "text/x-python",
   "name": "python",
   "nbconvert_exporter": "python",
   "pygments_lexer": "ipython3",
   "version": "3.9.7"
  }
 },
 "nbformat": 4,
 "nbformat_minor": 5
}
