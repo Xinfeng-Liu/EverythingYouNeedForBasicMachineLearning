{
 "cells": [
  {
   "cell_type": "code",
   "execution_count": 5,
   "id": "31b4a83e",
   "metadata": {},
   "outputs": [],
   "source": [
    "import pandas as pd\n",
    "import numpy as np\n",
    "from sklearn.model_selection import train_test_split\n",
    "from sklearn.preprocessing import StandardScaler\n",
    "from sklearn import metrics"
   ]
  },
  {
   "cell_type": "markdown",
   "id": "2d5e97a4",
   "metadata": {},
   "source": [
    "# Content\n",
    "\n",
    "## I. [Regression](#I.-Regression)\n",
    "* 1. [Linear Regression](#1.-Linear-Regression)\n",
    "* 2. [Lasso Regression](#2.-Lasso-Regression)\n",
    "* 3. [Ridge Regression](#3.-Ridge-Regression)\n",
    "* 4. [ElasticNet Regresion](#4.-ElasticNet-Regression)\n",
    "\n",
    "## II. [Classification](#Classification)"
   ]
  },
  {
   "cell_type": "markdown",
   "id": "ac5e4373",
   "metadata": {},
   "source": [
    "# I. Regression\n",
    "\n",
    "The Regression parts will use [Superconductivty](https://archive.ics.uci.edu/ml/datasets/Superconductivty+Data) dataset and different regressors to predict critical tempeture.\n",
    "\n",
    "Regression Process:\n",
    "\n",
    "* Import regressor from library\n",
    "* Define regressor\n",
    "* Data standardization if needed\n",
    "* Fit the model with training data\n",
    "* Predict result using testing data"
   ]
  },
  {
   "cell_type": "code",
   "execution_count": 3,
   "id": "e30d55f7",
   "metadata": {},
   "outputs": [],
   "source": [
    "# read data\n",
    "df = pd.read_csv('train.csv')\n",
    "X = df.drop(['critical_temp'], axis=1)\n",
    "y = df['critical_temp'].copy()\n",
    "\n",
    "# split training and testing data\n",
    "X_train, X_test, y_train, y_test = train_test_split(X, y, test_size=0.2, random_state=1)"
   ]
  },
  {
   "cell_type": "markdown",
   "id": "f3494015",
   "metadata": {},
   "source": [
    "## 1. Linear Regression "
   ]
  },
  {
   "cell_type": "code",
   "execution_count": 7,
   "id": "dc8ccc42",
   "metadata": {},
   "outputs": [
    {
     "name": "stdout",
     "output_type": "stream",
     "text": [
      "R-Squared =  0.7260922962253209\n",
      "MSE =  318.27775059069256\n"
     ]
    }
   ],
   "source": [
    "from sklearn.linear_model import LinearRegression\n",
    "# data standardization\n",
    "scaler = StandardScaler()\n",
    "X_train_scaled = scaler.fit_transform(X_train)\n",
    "X_test_scaled = scaler.transform(X_test)\n",
    "\n",
    "# declar regressor\n",
    "linear_reg = LinearRegression()\n",
    "\n",
    "# fit model using scaled training data\n",
    "linear_reg.fit(X_train_scaled, y_train)\n",
    "\n",
    "# make prediction\n",
    "linear_yhat = linear_reg.predict(X_test_scaled)\n",
    "\n",
    "# disply r-suqred and MSE\n",
    "print(\"R-Squared = \", linear_reg.score(X_test_scaled, y_test))\n",
    "print(\"MSE = \", metrics.mean_squared_error(y_test, linear_yhat))"
   ]
  },
  {
   "cell_type": "markdown",
   "id": "cc4be6a0",
   "metadata": {},
   "source": [
    "## 2. Lasso Regression\n",
    "\n",
    "* Normally need to tune \"alpha\" parameter"
   ]
  },
  {
   "cell_type": "code",
   "execution_count": 11,
   "id": "eac8a891",
   "metadata": {},
   "outputs": [
    {
     "name": "stdout",
     "output_type": "stream",
     "text": [
      "R-Squared =  0.6488466780033888\n",
      "MSE =  408.0363125875046\n"
     ]
    }
   ],
   "source": [
    "from sklearn.linear_model import Lasso\n",
    "# data standardization\n",
    "scaler = StandardScaler()\n",
    "X_train_scaled = scaler.fit_transform(X_train)\n",
    "X_test_scaled = scaler.transform(X_test)\n",
    "\n",
    "# declar regressor\n",
    "lasso_reg = Lasso()\n",
    "\n",
    "# fit model using scaled training data\n",
    "lasso_reg.fit(X_train_scaled, y_train)\n",
    "\n",
    "# make prediction\n",
    "lasso_yhat = lasso_reg.predict(X_test_scaled)\n",
    "\n",
    "# disply r-suqred and MSE\n",
    "print(\"R-Squared = \", lasso_reg.score(X_test_scaled, y_test))\n",
    "print(\"MSE = \", metrics.mean_squared_error(y_test, lasso_yhat))"
   ]
  },
  {
   "cell_type": "markdown",
   "id": "394a1607",
   "metadata": {},
   "source": [
    "## 3. Ridge Regression\n",
    "\n",
    "* Normally need to tune \"alpha\" parameter"
   ]
  },
  {
   "cell_type": "code",
   "execution_count": 13,
   "id": "71ae47c9",
   "metadata": {},
   "outputs": [
    {
     "name": "stdout",
     "output_type": "stream",
     "text": [
      "R-Squared =  0.726568618021026\n",
      "MSE =  317.72426988312174\n"
     ]
    }
   ],
   "source": [
    "from sklearn.linear_model import Ridge\n",
    "# data standardization\n",
    "scaler = StandardScaler()\n",
    "X_train_scaled = scaler.fit_transform(X_train)\n",
    "X_test_scaled = scaler.transform(X_test)\n",
    "\n",
    "# declar regressor\n",
    "ridge_reg = Ridge()\n",
    "\n",
    "# fit model using scaled training data\n",
    "ridge_reg.fit(X_train_scaled, y_train)\n",
    "\n",
    "# make prediction\n",
    "ridge_yhat = ridge_reg.predict(X_test_scaled)\n",
    "\n",
    "# disply r-suqred and MSE\n",
    "print(\"R-Squared = \", ridge_reg.score(X_test_scaled, y_test))\n",
    "print(\"MSE = \", metrics.mean_squared_error(y_test, ridge_yhat))"
   ]
  },
  {
   "cell_type": "markdown",
   "id": "1798d2cb",
   "metadata": {},
   "source": [
    "## 4. ElasticNet Regression\n",
    "\n",
    "* Normally need to tune \"alpha\" parameter"
   ]
  },
  {
   "cell_type": "code",
   "execution_count": 14,
   "id": "597bd7da",
   "metadata": {},
   "outputs": [
    {
     "name": "stdout",
     "output_type": "stream",
     "text": [
      "R-Squared =  0.6237710507637774\n",
      "MSE =  437.1739166873132\n"
     ]
    }
   ],
   "source": [
    "from sklearn.linear_model import ElasticNet\n",
    "# data standardization\n",
    "scaler = StandardScaler()\n",
    "X_train_scaled = scaler.fit_transform(X_train)\n",
    "X_test_scaled = scaler.transform(X_test)\n",
    "\n",
    "# declar regressor\n",
    "elastic_net_reg = ElasticNet()\n",
    "\n",
    "# fit model using scaled training data\n",
    "elastic_net_reg.fit(X_train_scaled, y_train)\n",
    "\n",
    "# make prediction\n",
    "elastic_yhat = elastic_net_reg.predict(X_test_scaled)\n",
    "\n",
    "# disply r-suqred and MSE\n",
    "print(\"R-Squared = \", elastic_net_reg.score(X_test_scaled, y_test))\n",
    "print(\"MSE = \", metrics.mean_squared_error(y_test, elastic_yhat))"
   ]
  },
  {
   "cell_type": "code",
   "execution_count": null,
   "id": "84004a33",
   "metadata": {},
   "outputs": [],
   "source": []
  }
 ],
 "metadata": {
  "kernelspec": {
   "display_name": "Python 3 (ipykernel)",
   "language": "python",
   "name": "python3"
  },
  "language_info": {
   "codemirror_mode": {
    "name": "ipython",
    "version": 3
   },
   "file_extension": ".py",
   "mimetype": "text/x-python",
   "name": "python",
   "nbconvert_exporter": "python",
   "pygments_lexer": "ipython3",
   "version": "3.9.7"
  }
 },
 "nbformat": 4,
 "nbformat_minor": 5
}
